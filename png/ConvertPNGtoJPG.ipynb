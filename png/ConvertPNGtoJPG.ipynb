{
 "cells": [
  {
   "cell_type": "code",
   "execution_count": 20,
   "metadata": {},
   "outputs": [
    {
     "name": "stdout",
     "output_type": "stream",
     "text": [
      "['char_1.png', 'char_10.png', 'char_100.png', 'char_101.png', 'char_102.png', 'char_103.png', 'char_104.png', 'char_105.png', 'char_106.png', 'char_107.png', 'char_108.png', 'char_109.png', 'char_11.png', 'char_110.png', 'char_111.png', 'char_112.png', 'char_113.png', 'char_114.png', 'char_115.png', 'char_116.png', 'char_117.png', 'char_118.png', 'char_119.png', 'char_12.png', 'char_120.png', 'char_121.png', 'char_122.png', 'char_123.png', 'char_124.png', 'char_125.png', 'char_126.png', 'char_127.png', 'char_128.png', 'char_129.png', 'char_13.png', 'char_130.png', 'char_131.png', 'char_132.png', 'char_133.png', 'char_134.png', 'char_135.png', 'char_136.png', 'char_137.png', 'char_138.png', 'char_139.png', 'char_14.png', 'char_140.png', 'char_141.png', 'char_142.png', 'char_143.png', 'char_144.png', 'char_145.png', 'char_146.png', 'char_147.png', 'char_148.png', 'char_149.png', 'char_15.png', 'char_150.png', 'char_151.png', 'char_152.png', 'char_153.png', 'char_154.png', 'char_155.png', 'char_156.png', 'char_157.png', 'char_158.png', 'char_159.png', 'char_16.png', 'char_160.png', 'char_161.png', 'char_162.png', 'char_163.png', 'char_164.png', 'char_165.png', 'char_166.png', 'char_167.png', 'char_168.png', 'char_169.png', 'char_17.png', 'char_170.png', 'char_171.png', 'char_172.png', 'char_173.png', 'char_174.png', 'char_175.png', 'char_176.png', 'char_177.png', 'char_178.png', 'char_179.png', 'char_18.png', 'char_180.png', 'char_181.png', 'char_182.png', 'char_183.png', 'char_184.png', 'char_185.png', 'char_186.png', 'char_187.png', 'char_188.png', 'char_189.png', 'char_19.png', 'char_190.png', 'char_191.png', 'char_192.png', 'char_193.png', 'char_194.png', 'char_195.png', 'char_196.png', 'char_197.png', 'char_198.png', 'char_199.png', 'char_2.png', 'char_20.png', 'char_200.png', 'char_201.png', 'char_202.png', 'char_203.png', 'char_204.png', 'char_205.png', 'char_206.png', 'char_207.png', 'char_208.png', 'char_209.png', 'char_21.png', 'char_210.png', 'char_211.png', 'char_212.png', 'char_213.png', 'char_214.png', 'char_215.png', 'char_216.png', 'char_217.png', 'char_218.png', 'char_219.png', 'char_22.png', 'char_220.png', 'char_221.png', 'char_222.png', 'char_223.png', 'char_224.png', 'char_225.png', 'char_226.png', 'char_227.png', 'char_228.png', 'char_229.png', 'char_23.png', 'char_230.png', 'char_231.png', 'char_232.png', 'char_233.png', 'char_234.png', 'char_235.png', 'char_236.png', 'char_237.png', 'char_238.png', 'char_239.png', 'char_24.png', 'char_240.png', 'char_241.png', 'char_242.png', 'char_243.png', 'char_244.png', 'char_245.png', 'char_246.png', 'char_247.png', 'char_248.png', 'char_249.png', 'char_25.png', 'char_250.png', 'char_251.png', 'char_252.png', 'char_253.png', 'char_254.png', 'char_255.png', 'char_256.png', 'char_257.png', 'char_258.png', 'char_259.png', 'char_26.png', 'char_260.png', 'char_261.png', 'char_262.png', 'char_263.png', 'char_264.png', 'char_265.png', 'char_266.png', 'char_267.png', 'char_268.png', 'char_269.png', 'char_27.png', 'char_270.png', 'char_271.png', 'char_272.png', 'char_273.png', 'char_274.png', 'char_275.png', 'char_276.png', 'char_277.png', 'char_278.png', 'char_279.png', 'char_28.png', 'char_280.png', 'char_281.png', 'char_282.png', 'char_283.png', 'char_284.png', 'char_285.png', 'char_286.png', 'char_287.png', 'char_288.png', 'char_289.png', 'char_29.png', 'char_290.png', 'char_291.png', 'char_292.png', 'char_293.png', 'char_294.png', 'char_295.png', 'char_296.png', 'char_297.png', 'char_298.png', 'char_299.png', 'char_3.png', 'char_30.png', 'char_300.png', 'char_301.png', 'char_302.png', 'char_303.png', 'char_304.png', 'char_305.png', 'char_306.png', 'char_307.png', 'char_308.png', 'char_309.png', 'char_31.png', 'char_310.png', 'char_311.png', 'char_312.png', 'char_313.png', 'char_314.png', 'char_315.png', 'char_316.png', 'char_317.png', 'char_318.png', 'char_319.png', 'char_32.png', 'char_320.png', 'char_321.png', 'char_322.png', 'char_323.png', 'char_324.png', 'char_325.png', 'char_326.png', 'char_327.png', 'char_328.png', 'char_329.png', 'char_33.png', 'char_330.png', 'char_331.png', 'char_332.png', 'char_333.png', 'char_334.png', 'char_335.png', 'char_336.png', 'char_337.png', 'char_338.png', 'char_339.png', 'char_34.png', 'char_340.png', 'char_341.png', 'char_342.png', 'char_343.png', 'char_344.png', 'char_345.png', 'char_346.png', 'char_347.png', 'char_348.png', 'char_349.png', 'char_35.png', 'char_350.png', 'char_351.png', 'char_352.png', 'char_353.png', 'char_354.png', 'char_355.png', 'char_356.png', 'char_357.png', 'char_358.png', 'char_359.png', 'char_36.png', 'char_360.png', 'char_361.png', 'char_362.png', 'char_363.png', 'char_364.png', 'char_365.png', 'char_366.png', 'char_37.png', 'char_38.png', 'char_39.png', 'char_4.png', 'char_40.png', 'char_41.png', 'char_42.png', 'char_43.png', 'char_44.png', 'char_45.png', 'char_46.png', 'char_47.png', 'char_48.png', 'char_49.png', 'char_5.png', 'char_50.png', 'char_51.png', 'char_52.png', 'char_53.png', 'char_54.png', 'char_55.png', 'char_56.png', 'char_57.png', 'char_58.png', 'char_59.png', 'char_6.png', 'char_60.png', 'char_61.png', 'char_62.png', 'char_63.png', 'char_64.png', 'char_65.png', 'char_66.png', 'char_67.png', 'char_68.png', 'char_69.png', 'char_7.png', 'char_70.png', 'char_71.png', 'char_72.png', 'char_73.png', 'char_74.png', 'char_75.png', 'char_76.png', 'char_77.png', 'char_78.png', 'char_79.png', 'char_8.png', 'char_80.png', 'char_81.png', 'char_82.png', 'char_83.png', 'char_84.png', 'char_85.png', 'char_86.png', 'char_87.png', 'char_88.png', 'char_89.png', 'char_9.png', 'char_90.png', 'char_91.png', 'char_92.png', 'char_93.png', 'char_94.png', 'char_95.png', 'char_96.png', 'char_97.png', 'char_98.png', 'char_99.png']\n"
     ]
    }
   ],
   "source": [
    "import os\n",
    "arr = os.listdir('png')\n",
    "print(arr)"
   ]
  },
  {
   "cell_type": "code",
   "execution_count": 21,
   "metadata": {},
   "outputs": [],
   "source": [
    "from PIL import Image\n",
    "import matplotlib.pyplot as plt\n"
   ]
  },
  {
   "cell_type": "code",
   "execution_count": 32,
   "metadata": {},
   "outputs": [],
   "source": [
    "from PIL import Image\n",
    "\n",
    "for i in arr:\n",
    "#     im = Image.open('png/'+i)\n",
    "#     rgb_im = im.convert('RGB')\n",
    "#     rgb_im.save(i+'.jpg')\n",
    "    img = Image.open('png/'+i).resize((31,45)) # (x,y) pixels\n",
    "    img.convert(\"RGB\").save(i+'.jpg')"
   ]
  },
  {
   "cell_type": "code",
   "execution_count": 13,
   "metadata": {},
   "outputs": [
    {
     "ename": "PermissionError",
     "evalue": "[Errno 13] Permission denied: '.ipynb_checkpoints'",
     "output_type": "error",
     "traceback": [
      "\u001b[1;31m---------------------------------------------------------------------------\u001b[0m",
      "\u001b[1;31mPermissionError\u001b[0m                           Traceback (most recent call last)",
      "\u001b[1;32m<ipython-input-13-e0bf7eca293e>\u001b[0m in \u001b[0;36m<module>\u001b[1;34m\u001b[0m\n\u001b[0;32m      1\u001b[0m \u001b[1;32mfor\u001b[0m \u001b[0mi\u001b[0m \u001b[1;32min\u001b[0m \u001b[0marr\u001b[0m\u001b[1;33m:\u001b[0m\u001b[1;33m\u001b[0m\u001b[1;33m\u001b[0m\u001b[0m\n\u001b[0;32m      2\u001b[0m     \u001b[0mn\u001b[0m\u001b[1;33m=\u001b[0m\u001b[1;36m1\u001b[0m\u001b[1;33m\u001b[0m\u001b[1;33m\u001b[0m\u001b[0m\n\u001b[1;32m----> 3\u001b[1;33m     \u001b[0mImage\u001b[0m\u001b[1;33m.\u001b[0m\u001b[0mopen\u001b[0m\u001b[1;33m(\u001b[0m\u001b[0mi\u001b[0m\u001b[1;33m)\u001b[0m\u001b[1;33m.\u001b[0m\u001b[0msave\u001b[0m\u001b[1;33m(\u001b[0m\u001b[1;34m'char_'\u001b[0m\u001b[1;33m+\u001b[0m\u001b[0mn\u001b[0m\u001b[1;33m+\u001b[0m\u001b[1;34m'.jpg'\u001b[0m\u001b[1;33m,\u001b[0m\u001b[1;34m'JPEG'\u001b[0m\u001b[1;33m)\u001b[0m\u001b[1;33m\u001b[0m\u001b[1;33m\u001b[0m\u001b[0m\n\u001b[0m\u001b[0;32m      4\u001b[0m     \u001b[0mn\u001b[0m\u001b[1;33m+=\u001b[0m\u001b[1;36m1\u001b[0m\u001b[1;33m\u001b[0m\u001b[1;33m\u001b[0m\u001b[0m\n",
      "\u001b[1;32m~\\anaconda3\\lib\\site-packages\\PIL\\Image.py\u001b[0m in \u001b[0;36mopen\u001b[1;34m(fp, mode, formats)\u001b[0m\n\u001b[0;32m   2889\u001b[0m \u001b[1;33m\u001b[0m\u001b[0m\n\u001b[0;32m   2890\u001b[0m     \u001b[1;32mif\u001b[0m \u001b[0mfilename\u001b[0m\u001b[1;33m:\u001b[0m\u001b[1;33m\u001b[0m\u001b[1;33m\u001b[0m\u001b[0m\n\u001b[1;32m-> 2891\u001b[1;33m         \u001b[0mfp\u001b[0m \u001b[1;33m=\u001b[0m \u001b[0mbuiltins\u001b[0m\u001b[1;33m.\u001b[0m\u001b[0mopen\u001b[0m\u001b[1;33m(\u001b[0m\u001b[0mfilename\u001b[0m\u001b[1;33m,\u001b[0m \u001b[1;34m\"rb\"\u001b[0m\u001b[1;33m)\u001b[0m\u001b[1;33m\u001b[0m\u001b[1;33m\u001b[0m\u001b[0m\n\u001b[0m\u001b[0;32m   2892\u001b[0m         \u001b[0mexclusive_fp\u001b[0m \u001b[1;33m=\u001b[0m \u001b[1;32mTrue\u001b[0m\u001b[1;33m\u001b[0m\u001b[1;33m\u001b[0m\u001b[0m\n\u001b[0;32m   2893\u001b[0m \u001b[1;33m\u001b[0m\u001b[0m\n",
      "\u001b[1;31mPermissionError\u001b[0m: [Errno 13] Permission denied: '.ipynb_checkpoints'"
     ]
    }
   ],
   "source": [
    "for i in arr:\n",
    "    n=1\n",
    "    Image.open(i).save('char_'+n+'.jpg','JPEG')\n",
    "    n+=1"
   ]
  },
  {
   "cell_type": "code",
   "execution_count": 56,
   "metadata": {},
   "outputs": [],
   "source": [
    "for d in arr:\n",
    "#     im = Image.open('png/'+i)\n",
    "#     rgb_im = im.convert('RGB')\n",
    "#     rgb_im.save(i+'.jpg')\n",
    "#     img = Image.open('png/'+i).resize((31,45)) # (x,y) pixels\n",
    "#     img.convert(\"RGB\").save(i+'.jpg')\n",
    "    img = cv2.imread('png/'+d, cv2.IMREAD_UNCHANGED)\n",
    "    #print(img)\n",
    "    mid_height = int(img.shape[0] / 2)\n",
    "    mid_width = int(img.shape[1] / 2)\n",
    "\n",
    "    h1 = 0\n",
    "    h2 = 0\n",
    "\n",
    "    w1 = 0\n",
    "    w2 = 0\n",
    "\n",
    "    for i in range(mid_height, 0, -1):\n",
    "        if img[i,mid_width,3] == 0:\n",
    "            break\n",
    "        h1 = i\n",
    "    for i in range(mid_height, img.shape[0], 1):\n",
    "        if img[i,mid_width,3] == 0:\n",
    "            break\n",
    "        h2 = i\n",
    "    for i in range(mid_width, 0, -1):\n",
    "        if img[mid_height,i,3] == 0:\n",
    "            break\n",
    "        w1 = i\n",
    "    for i in range(mid_width, img.shape[1], 1):\n",
    "        if img[mid_height,i,3] == 0:\n",
    "            break\n",
    "        w2 = i\n",
    "\n",
    "    new_img = img[h1:h2,w1:w2,:]\n",
    "\n",
    "\n",
    "    # cv2.imshow(\"img\", img)\n",
    "    # cv2.imshow(\"new_img\", new_img)\n",
    "\n",
    "    # cv2.waitKey(0)\n",
    "    asplit = d.split(\".\")\n",
    "    name = asplit[0]+\".jpg\"\n",
    "    cv2.imwrite(name, new_img)"
   ]
  }
 ],
 "metadata": {
  "kernelspec": {
   "display_name": "Python 3",
   "language": "python",
   "name": "python3"
  },
  "language_info": {
   "codemirror_mode": {
    "name": "ipython",
    "version": 3
   },
   "file_extension": ".py",
   "mimetype": "text/x-python",
   "name": "python",
   "nbconvert_exporter": "python",
   "pygments_lexer": "ipython3",
   "version": "3.8.5"
  }
 },
 "nbformat": 4,
 "nbformat_minor": 4
}
