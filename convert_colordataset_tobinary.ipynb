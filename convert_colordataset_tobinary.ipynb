{
 "cells": [
  {
   "cell_type": "code",
   "execution_count": 136,
   "metadata": {},
   "outputs": [],
   "source": [
    "import matplotlib.pyplot as plt\n",
    "import numpy as np\n",
    "import cv2\n",
    "import tensorflow as tf\n",
    "from sklearn.metrics import f1_score \n",
    "from tensorflow.keras import optimizers\n",
    "from tensorflow.keras.models import Sequential\n",
    "from tensorflow.keras.preprocessing.image import ImageDataGenerator\n",
    "from tensorflow.keras.layers import Dense, Flatten, MaxPooling2D, Dropout, Conv2D"
   ]
  },
  {
   "cell_type": "code",
   "execution_count": 142,
   "metadata": {
    "scrolled": true
   },
   "outputs": [
    {
     "data": {
      "text/plain": [
       "<matplotlib.image.AxesImage at 0x1832fa98b50>"
      ]
     },
     "execution_count": 142,
     "metadata": {},
     "output_type": "execute_result"
    },
    {
     "data": {
      "image/png": "[encoded data removed]",
      "text/plain": [
       "<Figure size 432x288 with 1 Axes>"
      ]
     },
     "metadata": {
      "needs_background": "light"
     },
     "output_type": "display_data"
    }
   ],
   "source": [
    "img = cv2.imread('dataset_BallModel/number_binary/test/9_79.jpg')\n",
    "#ret, bw_img = cv2.threshold(img,127,255,cv2.THRESH_BINARY)\n",
    "img_gray_lp = cv2.cvtColor(img, cv2.COLOR_BGR2GRAY)\n",
    "_, img_binary_lp = cv2.threshold(img_gray_lp, 200, 255, cv2.THRESH_BINARY+cv2.THRESH_OTSU)\n",
    "#img_binary_lp = cv2.erode(img_binary_lp, (4,4))\n",
    "img_binary_lp = cv2.erode(img_binary_lp, (10,10))\n",
    "img_binary_lp = cv2.dilate(img_binary_lp, (10,10))\n",
    "\n",
    "\n",
    "plt.imshow(img_binary_lp, cmap='gray')"
   ]
  },
  {
   "cell_type": "code",
   "execution_count": 99,
   "metadata": {},
   "outputs": [],
   "source": [
    "def inverte(imagem, name):\n",
    "    imagem = (255-imagem)\n",
    "    cv2.imwrite(name, imagem)"
   ]
  },
  {
   "cell_type": "code",
   "execution_count": 100,
   "metadata": {
    "scrolled": true
   },
   "outputs": [
    {
     "data": {
      "text/plain": [
       "True"
      ]
     },
     "execution_count": 100,
     "metadata": {},
     "output_type": "execute_result"
    }
   ],
   "source": [
    "imagem = cv2.bitwise_not(img_binary_lp)\n",
    "cv2.imwrite('lena_opencv_gray.jpg', imagem)"
   ]
  },
  {
   "cell_type": "code",
   "execution_count": 131,
   "metadata": {},
   "outputs": [
    {
     "data": {
      "text/plain": [
       "0"
      ]
     },
     "execution_count": 131,
     "metadata": {},
     "output_type": "execute_result"
    }
   ],
   "source": []
  },
  {
   "cell_type": "code",
   "execution_count": 139,
   "metadata": {
    "scrolled": false
   },
   "outputs": [],
   "source": [
    "from skimage import io, color\n",
    "import os\n",
    "import imghdr\n",
    "from random import randrange\n",
    "\n",
    "source = r'C:\\Users\\ball_\\Python\\PlateRegcognization\\dataset_BallModel\\number'\n",
    "destination = r'C:\\Users\\ball_\\Python\\PlateRegcognization\\dataset_BallModel\\number_binary'\n",
    "\n",
    "image_files = [os.path.join(root, filename) \n",
    "                   for root, dirs, files in os.walk(source) \n",
    "                   for filename in files \n",
    "                   if imghdr.what(os.path.join(root, filename))]\n",
    "\n",
    "for fn in image_files:\n",
    "    img = cv2.imread(fn)\n",
    "    img_gray_lp = cv2.cvtColor(img, cv2.COLOR_BGR2GRAY)\n",
    "    _, img_binary_lp = cv2.threshold(img_gray_lp, 200, 255, cv2.THRESH_BINARY+cv2.THRESH_OTSU)\n",
    "    #img_binary_lp = cv2.erode(img_binary_lp, (4,4))\n",
    "    img_binary_lp = cv2.erode(img_binary_lp, (1000,1000))\n",
    "    img_binary_lp = cv2.dilate(img_binary_lp, (1000,1000))\n",
    "    randomnum = randrange(9)\n",
    "    #invert color\n",
    "    imagem = cv2.bitwise_not(img_binary_lp)\n",
    "    \n",
    "    head, tail = os.path.split(fn)\n",
    "    filepath = head.split(\"\\\\\")\n",
    "    \n",
    "#     try: \n",
    "#         os.mkdir(filepath[7]) \n",
    "#     except OSError as error: \n",
    "#         print(error)  \n",
    "    if randomnum >= 8:\n",
    "        io.imsave(os.path.join(destination,'test', tail), imagem)\n",
    "    else:\n",
    "        io.imsave(os.path.join(destination,'train', tail), imagem)"
   ]
  }
 ],
 "metadata": {
  "kernelspec": {
   "display_name": "Python 3",
   "language": "python",
   "name": "python3"
  },
  "language_info": {
   "codemirror_mode": {
    "name": "ipython",
    "version": 3
   },
   "file_extension": ".py",
   "mimetype": "text/x-python",
   "name": "python",
   "nbconvert_exporter": "python",
   "pygments_lexer": "ipython3",
   "version": "3.8.5"
  }
 },
 "nbformat": 4,
 "nbformat_minor": 4
}
