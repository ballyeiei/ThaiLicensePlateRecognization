{
 "cells": [
  {
   "cell_type": "code",
   "execution_count": 1,
   "metadata": {},
   "outputs": [],
   "source": [
    "import glob\n",
    "import os"
   ]
  },
  {
   "cell_type": "code",
   "execution_count": 2,
   "metadata": {},
   "outputs": [
    {
     "name": "stdout",
     "output_type": "stream",
     "text": [
      "00_0\n",
      "\n",
      "01_1\n",
      "\n",
      "02_2\n",
      "\n",
      "03_3\n",
      "\n",
      "04_4\n",
      "\n",
      "05_5\n",
      "\n",
      "06_6\n",
      "\n",
      "07_7\n",
      "\n",
      "08_8\n",
      "\n",
      "09_9\n",
      "\n",
      "10_borbaimai\n",
      "\n",
      "11_chorchan\n",
      "\n",
      "12_chorching\n",
      "\n",
      "13_dorchada\n",
      "\n",
      "14_hornokhook\n",
      "\n",
      "15_KhoKhai\n",
      "\n",
      "16_KhorKwai\n",
      "\n",
      "17_Korkai\n",
      "\n",
      "18_korrakung\n",
      "\n",
      "19_lorling\n",
      "\n",
      "20_moma\n",
      "\n",
      "21_ngorngou\n",
      "\n",
      "22_nornou\n",
      "\n",
      "23_porpan\n",
      "\n",
      "24_porphung\n",
      "\n",
      "25_rorou\n",
      "\n",
      "26_sorbor\n",
      "\n",
      "27_torputao\n",
      "\n",
      "28_tortahan\n",
      "\n",
      "29_tortao\n",
      "\n",
      "30_torthong\n",
      "\n",
      "31_vorvan\n",
      "\n",
      "32_yoyark\n",
      "\n",
      "33_korkorsala\n",
      "\n",
      "34_orang\n",
      "\n",
      "35_tortung\n",
      "\n",
      "36_chorchang\n",
      "\n",
      "37_yorpuying\n",
      "\n",
      "38_torsanthan\n",
      "\n",
      "39_porsampao\n",
      "\n",
      "40_chorchachor\n",
      "\n",
      "41_lorchula\n",
      "\n",
      "42_horheep\n",
      "\n",
      "43_sorsour\n",
      "\n",
      "44_nornen\n",
      "\n",
      "45_dordek\n",
      "\n",
      "Untitled.ipynb\n",
      "\n"
     ]
    }
   ],
   "source": [
    "folders=os.listdir(\".\")\n",
    "folders.sort()\n",
    "content=[]\n",
    "f = open(\"letter.txt\", \"a\")\n",
    "for folder in folders:\n",
    "    if(not folder.startswith(\".\")):\n",
    "        print(folder+'\\n')\n",
    "        f.write(folder)\n",
    "        \n",
    "\n",
    "\n",
    "f.close()\n"
   ]
  },
  {
   "cell_type": "code",
   "execution_count": 21,
   "metadata": {},
   "outputs": [
    {
     "name": "stdout",
     "output_type": "stream",
     "text": [
      "00_001_102_203_304_405_506_607_708_809_910_borbaimai11_chorchan12_chorching13_dorchada14_hornokhook15_KhoKhai16_KhorKwai17_Korkai18_korrakung19_lorling20_moma21_ngorngou22_nornou23_porpan24_porphung25_rorou26_sorbor27_torputao28_tortahan29_tortao30_torthong31_vorvan32_yoyark33_korkorsala34_orang35_tortung36_chorchang37_yorpuying38_torsanthan39_porsampao40_chorchachor41_lorchula42_horheep43_sorsour44_nornen45_dordekUntitled.ipynbletter.txt00_001_102_203_304_405_506_607_708_809_910_borbaimai11_chorchan12_chorching13_dorchada14_hornokhook15_KhoKhai16_KhorKwai17_Korkai18_korrakung19_lorling20_moma21_ngorngou22_nornou23_porpan24_porphung25_rorou26_sorbor27_torputao28_tortahan29_tortao30_torthong31_vorvan32_yoyark33_korkorsala34_orang35_tortung36_chorchang37_yorpuying38_torsanthan39_porsampao40_chorchachor41_lorchula42_horheep43_sorsour44_nornen45_dordekUntitled.ipynbletter.txt00_001_102_203_304_405_506_607_708_809_910_borbaimai11_chorchan12_chorching13_dorchada14_hornokhook15_KhoKhai16_KhorKwai17_Korkai18_korrakung19_lorling20_moma21_ngorngou22_nornou23_porpan24_porphung25_rorou26_sorbor27_torputao28_tortahan29_tortao30_torthong31_vorvan32_yoyark33_korkorsala34_orang35_tortung36_chorchang37_yorpuying38_torsanthan39_porsampao40_chorchachor41_lorchula42_horheep43_sorsour44_nornen45_dordekUntitled.ipynbletter.txt\n"
     ]
    }
   ],
   "source": [
    "f = open(\"letter.txt\", \"r\")\n",
    "print(f.read())"
   ]
  },
  {
   "cell_type": "code",
   "execution_count": null,
   "metadata": {},
   "outputs": [],
   "source": []
  },
  {
   "cell_type": "code",
   "execution_count": null,
   "metadata": {},
   "outputs": [],
   "source": []
  }
 ],
 "metadata": {
  "kernelspec": {
   "display_name": "Python 3",
   "language": "python",
   "name": "python3"
  },
  "language_info": {
   "codemirror_mode": {
    "name": "ipython",
    "version": 3
   },
   "file_extension": ".py",
   "mimetype": "text/x-python",
   "name": "python",
   "nbconvert_exporter": "python",
   "pygments_lexer": "ipython3",
   "version": "3.5.5"
  }
 },
 "nbformat": 4,
 "nbformat_minor": 2
}
